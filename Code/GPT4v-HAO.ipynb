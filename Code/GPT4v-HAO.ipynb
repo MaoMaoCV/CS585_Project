{
 "cells": [
  {
   "cell_type": "markdown",
   "metadata": {},
   "source": [
    "**Index of processed images**  \n",
    "\n",
    "[70, 74]"
   ]
  },
  {
   "cell_type": "code",
   "execution_count": 2,
   "metadata": {},
   "outputs": [
    {
     "data": {
      "text/html": [
       "<div>\n",
       "<style scoped>\n",
       "    .dataframe tbody tr th:only-of-type {\n",
       "        vertical-align: middle;\n",
       "    }\n",
       "\n",
       "    .dataframe tbody tr th {\n",
       "        vertical-align: top;\n",
       "    }\n",
       "\n",
       "    .dataframe thead th {\n",
       "        text-align: right;\n",
       "    }\n",
       "</style>\n",
       "<table border=\"1\" class=\"dataframe\">\n",
       "  <thead>\n",
       "    <tr style=\"text-align: right;\">\n",
       "      <th></th>\n",
       "      <th>caption</th>\n",
       "      <th>link</th>\n",
       "      <th>message_id</th>\n",
       "      <th>timestamp</th>\n",
       "    </tr>\n",
       "  </thead>\n",
       "  <tbody>\n",
       "    <tr>\n",
       "      <th>0</th>\n",
       "      <td>Four green Ni-MH (Nickel-Metal Hydride) AA bat...</td>\n",
       "      <td>https://innovatefirm.com/wp-content/uploads/20...</td>\n",
       "      <td>1163177121674448907</td>\n",
       "      <td>2023-10-15T18:10:36.593000+00:00</td>\n",
       "    </tr>\n",
       "    <tr>\n",
       "      <th>1</th>\n",
       "      <td>A pixelated graphic depicts an interior scene ...</td>\n",
       "      <td>https://static.tvtropes.org/pmwiki/pub/images/...</td>\n",
       "      <td>1163175584860475484</td>\n",
       "      <td>2023-10-15T18:04:30.188000+00:00</td>\n",
       "    </tr>\n",
       "    <tr>\n",
       "      <th>2</th>\n",
       "      <td>The image displays a side profile of a Great D...</td>\n",
       "      <td>https://www.petfinn.com/blog/static/71b85b3bf0...</td>\n",
       "      <td>1163174864438427658</td>\n",
       "      <td>2023-10-15T18:01:38.426000+00:00</td>\n",
       "    </tr>\n",
       "    <tr>\n",
       "      <th>3</th>\n",
       "      <td>The image displays a black bike light with an ...</td>\n",
       "      <td>https://images.philips.com/is/image/PhilipsCon...</td>\n",
       "      <td>1163107363637706862</td>\n",
       "      <td>2023-10-15T13:33:24.981000+00:00</td>\n",
       "    </tr>\n",
       "    <tr>\n",
       "      <th>4</th>\n",
       "      <td>A digital artwork poster features the word \"EU...</td>\n",
       "      <td>https://d2pn8kiwq2w21t.cloudfront.net/images/e...</td>\n",
       "      <td>1163107021269241918</td>\n",
       "      <td>2023-10-15T13:32:03.354000+00:00</td>\n",
       "    </tr>\n",
       "  </tbody>\n",
       "</table>\n",
       "</div>"
      ],
      "text/plain": [
       "                                             caption  \\\n",
       "0  Four green Ni-MH (Nickel-Metal Hydride) AA bat...   \n",
       "1  A pixelated graphic depicts an interior scene ...   \n",
       "2  The image displays a side profile of a Great D...   \n",
       "3  The image displays a black bike light with an ...   \n",
       "4  A digital artwork poster features the word \"EU...   \n",
       "\n",
       "                                                link           message_id  \\\n",
       "0  https://innovatefirm.com/wp-content/uploads/20...  1163177121674448907   \n",
       "1  https://static.tvtropes.org/pmwiki/pub/images/...  1163175584860475484   \n",
       "2  https://www.petfinn.com/blog/static/71b85b3bf0...  1163174864438427658   \n",
       "3  https://images.philips.com/is/image/PhilipsCon...  1163107363637706862   \n",
       "4  https://d2pn8kiwq2w21t.cloudfront.net/images/e...  1163107021269241918   \n",
       "\n",
       "                          timestamp  \n",
       "0  2023-10-15T18:10:36.593000+00:00  \n",
       "1  2023-10-15T18:04:30.188000+00:00  \n",
       "2  2023-10-15T18:01:38.426000+00:00  \n",
       "3  2023-10-15T13:33:24.981000+00:00  \n",
       "4  2023-10-15T13:32:03.354000+00:00  "
      ]
     },
     "execution_count": 2,
     "metadata": {},
     "output_type": "execute_result"
    }
   ],
   "source": [
    "import json\n",
    "\n",
    "with open('datasets100.csv', 'r') as file:\n",
    "    lines = [file.readline().strip() for _ in range(10)]\n",
    "\n",
    "# Extract the content that appears to be JSON from the lines\n",
    "json_content = \"\".join(lines)\n",
    "\n",
    "# Attempt to load the content as JSON\n",
    "data = json.loads(json_content)\n",
    "\n",
    "# Convert the 'rows' key into a pandas DataFrame\n",
    "df = pd.DataFrame([row['row'] for row in data['rows']])\n",
    "\n",
    "# Display the first few rows of the newly created DataFrame\n",
    "df.head()"
   ]
  },
  {
   "cell_type": "code",
   "execution_count": 7,
   "metadata": {},
   "outputs": [
    {
     "name": "stdout",
     "output_type": "stream",
     "text": [
      "The image is a photograph capturing a couple in what appears to be a wedding setting. At the center, a man with Asian features, possibly in his late twenties or early thirties, has dark hair and is smiling gently. He is wearing a suit jacket with intricate red and blue patterns. Adjacent to him is a woman with dark skin, possibly in her twenties, showcasing a bright smile. Her hair is natural, curly, and voluminous. She has a floral crown with roses and other flowers in varying shades of pink, purple, and white. She's dressed in a white lacy wedding gown with an off-shoulder design. The two are embracing, with the man's arm wrapped around the woman's waist. Behind them is a backdrop of assorted flowers, including roses in various colors, creating a whimsical atmosphere. The overall tone of the photograph is warm and romantic.\n",
      "\n",
      "\n",
      "https://i.redd.it/6e5xsqecrtrb1.jpg\n",
      "\n",
      "\n",
      "1162174922093764610\n"
     ]
    }
   ],
   "source": [
    "index = 74\n",
    "\n",
    "print(df['caption'][index])\n",
    "print('\\n')\n",
    "print(df['link'][index])\n",
    "print('\\n')\n",
    "print(df['message_id'][index])"
   ]
  }
 ],
 "metadata": {
  "kernelspec": {
   "display_name": "Python 3",
   "language": "python",
   "name": "python3"
  },
  "language_info": {
   "codemirror_mode": {
    "name": "ipython",
    "version": 3
   },
   "file_extension": ".py",
   "mimetype": "text/x-python",
   "name": "python",
   "nbconvert_exporter": "python",
   "pygments_lexer": "ipython3",
   "version": "3.9.18"
  }
 },
 "nbformat": 4,
 "nbformat_minor": 2
}
